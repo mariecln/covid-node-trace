{
 "cells": [
  {
   "cell_type": "code",
   "execution_count": 118,
   "id": "a56a0e89",
   "metadata": {},
   "outputs": [],
   "source": [
    "import json\n",
    "import csv\n",
    "import datetime"
   ]
  },
  {
   "cell_type": "code",
   "execution_count": 119,
   "id": "f7b46fa4",
   "metadata": {},
   "outputs": [],
   "source": [
    "# Opening JSON file and loading the data\n",
    "# into the variable data\n",
    "with open('backup.json') as json_file:\n",
    "    data = json.load(json_file)"
   ]
  },
  {
   "cell_type": "code",
   "execution_count": 120,
   "id": "66d675d7",
   "metadata": {},
   "outputs": [],
   "source": [
    "record_data = data['__collections__']['broadcast']"
   ]
  },
  {
   "cell_type": "code",
   "execution_count": 121,
   "id": "1cdcc3b1",
   "metadata": {},
   "outputs": [
    {
     "data": {
      "text/plain": [
       "62"
      ]
     },
     "execution_count": 121,
     "metadata": {},
     "output_type": "execute_result"
    }
   ],
   "source": [
    "# now we will open a file for writing\n",
    "data_file = open('data_file.csv', 'w', encoding='UTF8', newline='')\n",
    " \n",
    "# create the csv writer object\n",
    "csv_writer_h = csv.writer(data_file,delimiter=';')\n",
    "\n",
    "# headers to the CSV file\n",
    "header = ['contact_name', 'device_name', 'rssi', 'location', 'duration', 'date', 'contact']\n",
    "\n",
    "# write the header\n",
    "csv_writer_h.writerow(header)\n",
    "    "
   ]
  },
  {
   "cell_type": "code",
   "execution_count": 122,
   "id": "d5e808bb",
   "metadata": {},
   "outputs": [],
   "source": [
    "import re\n",
    "from datetime import datetime\n",
    "csv_writer = csv.writer(data_file,delimiter=';')\n",
    "\n",
    "for record in record_data:\n",
    "    contact = []\n",
    "    for element in header:\n",
    "        details=data['__collections__']['broadcast'][record][element]\n",
    "        if element == 'date' :\n",
    "            string = details.replace(\"-\", \"/\")\n",
    "            m = re.search('^[0-9]{1,2}[\\/]([a-z A-Z]{3})[\\/]', string)\n",
    "            if m:\n",
    "                found = m.group(1)\n",
    "                try:\n",
    "                    datetime_object = datetime.strptime(found, \"%b\")\n",
    "                    month_number = datetime_object.month\n",
    "                    string = string.replace(found, str(month_number))\n",
    "                    dt_obj = datetime.strptime(string, '%d/%m/%y %H:%M')\n",
    "                    contact.append(dt_obj)\n",
    "                except ValueError:\n",
    "                    contact.append(string)\n",
    "            else :\n",
    "                contact.append(\"error\")\n",
    "        else :\n",
    "            contact.append(details)\n",
    "    \n",
    "    csv_writer.writerow(contact)"
   ]
  },
  {
   "cell_type": "code",
   "execution_count": 123,
   "id": "fdd6d11b",
   "metadata": {},
   "outputs": [],
   "source": [
    "# close file\n",
    "data_file.close() "
   ]
  },
  {
   "cell_type": "code",
   "execution_count": null,
   "id": "2c2d48b9",
   "metadata": {},
   "outputs": [],
   "source": []
  }
 ],
 "metadata": {
  "kernelspec": {
   "display_name": "Python 3 (ipykernel)",
   "language": "python",
   "name": "python3"
  },
  "language_info": {
   "codemirror_mode": {
    "name": "ipython",
    "version": 3
   },
   "file_extension": ".py",
   "mimetype": "text/x-python",
   "name": "python",
   "nbconvert_exporter": "python",
   "pygments_lexer": "ipython3",
   "version": "3.9.7"
  }
 },
 "nbformat": 4,
 "nbformat_minor": 5
}
